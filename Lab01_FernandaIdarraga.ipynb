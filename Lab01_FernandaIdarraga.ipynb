{
 "cells": [
  {
   "cell_type": "markdown",
   "id": "cd8cee81",
   "metadata": {},
   "source": [
    "# FERNANDA IDARRAGA - COMP663 | Fall 2022"
   ]
  },
  {
   "cell_type": "markdown",
   "id": "87c96254",
   "metadata": {},
   "source": [
    "# LAB 1 - Data Visualization"
   ]
  },
  {
   "cell_type": "markdown",
   "id": "dbc87d00",
   "metadata": {},
   "source": [
    "# Question #1 - Importing Modules"
   ]
  },
  {
   "cell_type": "code",
   "execution_count": 1,
   "id": "abee97b7",
   "metadata": {},
   "outputs": [],
   "source": [
    "import numpy as np\n",
    "import scipy.stats as st"
   ]
  },
  {
   "cell_type": "code",
   "execution_count": 2,
   "id": "d1d5338d",
   "metadata": {},
   "outputs": [
    {
     "name": "stdout",
     "output_type": "stream",
     "text": [
      "1\n",
      "6\n",
      "12\n",
      "15\n",
      "LinregressResult(slope=1.3846153846153846, intercept=-1.2692307692307683, rvalue=0.8207293546575958, pvalue=0.17927064534240414, stderr=0.6815401979488211, intercept_stderr=6.866327235439774)\n"
     ]
    }
   ],
   "source": [
    "# add code to import numpy and scipy\n",
    "x1 = int(input())\n",
    "x2 = int(input())\n",
    "x3 = int(input())\n",
    "x4 = int(input())\n",
    "\n",
    "x = np.array([x1, x2, x3, x4])\n",
    "y = np.array([0, 10, 7, 25])\n",
    "\n",
    "print(st.linregress(x,y))"
   ]
  },
  {
   "cell_type": "markdown",
   "id": "4668c2ef",
   "metadata": {},
   "source": [
    "# Question #2 - Data Frames"
   ]
  },
  {
   "cell_type": "code",
   "execution_count": 3,
   "id": "4c190b1c",
   "metadata": {},
   "outputs": [],
   "source": [
    "# import pandas as pd\n",
    "import pandas as pd\n",
    "cars_df = pd.read_csv('Cars.csv')# Import the CSV file Cars.csv\n",
    "#display(cars_df)"
   ]
  },
  {
   "cell_type": "code",
   "execution_count": 4,
   "id": "53d85845",
   "metadata": {},
   "outputs": [
    {
     "name": "stdout",
     "output_type": "stream",
     "text": [
      "5\n"
     ]
    }
   ],
   "source": [
    "userNum = int(input())"
   ]
  },
  {
   "cell_type": "code",
   "execution_count": 5,
   "id": "ec8c7486",
   "metadata": {},
   "outputs": [
    {
     "data": {
      "text/html": [
       "<div>\n",
       "<style scoped>\n",
       "    .dataframe tbody tr th:only-of-type {\n",
       "        vertical-align: middle;\n",
       "    }\n",
       "\n",
       "    .dataframe tbody tr th {\n",
       "        vertical-align: top;\n",
       "    }\n",
       "\n",
       "    .dataframe thead th {\n",
       "        text-align: right;\n",
       "    }\n",
       "</style>\n",
       "<table border=\"1\" class=\"dataframe\">\n",
       "  <thead>\n",
       "    <tr style=\"text-align: right;\">\n",
       "      <th></th>\n",
       "      <th>Quality</th>\n",
       "      <th>Speed</th>\n",
       "      <th>Angle</th>\n",
       "    </tr>\n",
       "  </thead>\n",
       "  <tbody>\n",
       "    <tr>\n",
       "      <th>0</th>\n",
       "      <td>2</td>\n",
       "      <td>2</td>\n",
       "      <td>1</td>\n",
       "    </tr>\n",
       "    <tr>\n",
       "      <th>1</th>\n",
       "      <td>3</td>\n",
       "      <td>1</td>\n",
       "      <td>1</td>\n",
       "    </tr>\n",
       "    <tr>\n",
       "      <th>2</th>\n",
       "      <td>2</td>\n",
       "      <td>3</td>\n",
       "      <td>2</td>\n",
       "    </tr>\n",
       "    <tr>\n",
       "      <th>3</th>\n",
       "      <td>4</td>\n",
       "      <td>4</td>\n",
       "      <td>3</td>\n",
       "    </tr>\n",
       "    <tr>\n",
       "      <th>4</th>\n",
       "      <td>5</td>\n",
       "      <td>2</td>\n",
       "      <td>2</td>\n",
       "    </tr>\n",
       "  </tbody>\n",
       "</table>\n",
       "</div>"
      ],
      "text/plain": [
       "   Quality  Speed  Angle\n",
       "0        2      2      1\n",
       "1        3      1      1\n",
       "2        2      3      2\n",
       "3        4      4      3\n",
       "4        5      2      2"
      ]
     },
     "execution_count": 5,
     "metadata": {},
     "output_type": "execute_result"
    }
   ],
   "source": [
    "cars_df[0:userNum] # Subset the first userNum rows of the data frame"
   ]
  },
  {
   "cell_type": "code",
   "execution_count": 6,
   "id": "a6f03171",
   "metadata": {},
   "outputs": [],
   "source": [
    "cars = cars_df[0:userNum]"
   ]
  },
  {
   "cell_type": "code",
   "execution_count": 7,
   "id": "e236dff0",
   "metadata": {},
   "outputs": [
    {
     "name": "stdout",
     "output_type": "stream",
     "text": [
      "Quality    5\n",
      "Speed      4\n",
      "Angle      3\n",
      "dtype: int64\n"
     ]
    }
   ],
   "source": [
    "print(cars.max()) # add code to find maximum values of the subset"
   ]
  },
  {
   "cell_type": "markdown",
   "id": "8b6cc71e",
   "metadata": {},
   "source": [
    "# Question #3 - Subsetting Data Frames"
   ]
  },
  {
   "cell_type": "code",
   "execution_count": 5,
   "id": "0d21051d",
   "metadata": {},
   "outputs": [],
   "source": [
    "import pandas as pd\n",
    "\n",
    "df = pd.read_csv('mtcars.csv')# Import the CSV file Cars.csv # read in the csv file mtcars.csv\n",
    "#display(df)"
   ]
  },
  {
   "cell_type": "code",
   "execution_count": 6,
   "id": "8e76a5f1",
   "metadata": {},
   "outputs": [
    {
     "name": "stdout",
     "output_type": "stream",
     "text": [
      "4\n"
     ]
    }
   ],
   "source": [
    "cylinders = int(input())"
   ]
  },
  {
   "cell_type": "code",
   "execution_count": 7,
   "id": "9b386511",
   "metadata": {},
   "outputs": [
    {
     "data": {
      "text/html": [
       "<div>\n",
       "<style scoped>\n",
       "    .dataframe tbody tr th:only-of-type {\n",
       "        vertical-align: middle;\n",
       "    }\n",
       "\n",
       "    .dataframe tbody tr th {\n",
       "        vertical-align: top;\n",
       "    }\n",
       "\n",
       "    .dataframe thead th {\n",
       "        text-align: right;\n",
       "    }\n",
       "</style>\n",
       "<table border=\"1\" class=\"dataframe\">\n",
       "  <thead>\n",
       "    <tr style=\"text-align: right;\">\n",
       "      <th></th>\n",
       "      <th>Unnamed: 0</th>\n",
       "      <th>mpg</th>\n",
       "      <th>cyl</th>\n",
       "      <th>disp</th>\n",
       "      <th>hp</th>\n",
       "      <th>drat</th>\n",
       "      <th>wt</th>\n",
       "      <th>qsec</th>\n",
       "      <th>vs</th>\n",
       "      <th>am</th>\n",
       "      <th>gear</th>\n",
       "      <th>carb</th>\n",
       "    </tr>\n",
       "  </thead>\n",
       "  <tbody>\n",
       "    <tr>\n",
       "      <th>2</th>\n",
       "      <td>Datsun 710</td>\n",
       "      <td>22.8</td>\n",
       "      <td>4</td>\n",
       "      <td>108.0</td>\n",
       "      <td>93</td>\n",
       "      <td>3.85</td>\n",
       "      <td>2.320</td>\n",
       "      <td>18.61</td>\n",
       "      <td>1</td>\n",
       "      <td>1</td>\n",
       "      <td>4</td>\n",
       "      <td>1</td>\n",
       "    </tr>\n",
       "    <tr>\n",
       "      <th>7</th>\n",
       "      <td>Merc 240D</td>\n",
       "      <td>24.4</td>\n",
       "      <td>4</td>\n",
       "      <td>146.7</td>\n",
       "      <td>62</td>\n",
       "      <td>3.69</td>\n",
       "      <td>3.190</td>\n",
       "      <td>20.00</td>\n",
       "      <td>1</td>\n",
       "      <td>0</td>\n",
       "      <td>4</td>\n",
       "      <td>2</td>\n",
       "    </tr>\n",
       "    <tr>\n",
       "      <th>8</th>\n",
       "      <td>Merc 230</td>\n",
       "      <td>22.8</td>\n",
       "      <td>4</td>\n",
       "      <td>140.8</td>\n",
       "      <td>95</td>\n",
       "      <td>3.92</td>\n",
       "      <td>3.150</td>\n",
       "      <td>22.90</td>\n",
       "      <td>1</td>\n",
       "      <td>0</td>\n",
       "      <td>4</td>\n",
       "      <td>2</td>\n",
       "    </tr>\n",
       "    <tr>\n",
       "      <th>17</th>\n",
       "      <td>Fiat 128</td>\n",
       "      <td>32.4</td>\n",
       "      <td>4</td>\n",
       "      <td>78.7</td>\n",
       "      <td>66</td>\n",
       "      <td>4.08</td>\n",
       "      <td>2.200</td>\n",
       "      <td>19.47</td>\n",
       "      <td>1</td>\n",
       "      <td>1</td>\n",
       "      <td>4</td>\n",
       "      <td>1</td>\n",
       "    </tr>\n",
       "    <tr>\n",
       "      <th>18</th>\n",
       "      <td>Honda Civic</td>\n",
       "      <td>30.4</td>\n",
       "      <td>4</td>\n",
       "      <td>75.7</td>\n",
       "      <td>52</td>\n",
       "      <td>4.93</td>\n",
       "      <td>1.615</td>\n",
       "      <td>18.52</td>\n",
       "      <td>1</td>\n",
       "      <td>1</td>\n",
       "      <td>4</td>\n",
       "      <td>2</td>\n",
       "    </tr>\n",
       "    <tr>\n",
       "      <th>19</th>\n",
       "      <td>Toyota Corolla</td>\n",
       "      <td>33.9</td>\n",
       "      <td>4</td>\n",
       "      <td>71.1</td>\n",
       "      <td>65</td>\n",
       "      <td>4.22</td>\n",
       "      <td>1.835</td>\n",
       "      <td>19.90</td>\n",
       "      <td>1</td>\n",
       "      <td>1</td>\n",
       "      <td>4</td>\n",
       "      <td>1</td>\n",
       "    </tr>\n",
       "    <tr>\n",
       "      <th>20</th>\n",
       "      <td>Toyota Corona</td>\n",
       "      <td>21.5</td>\n",
       "      <td>4</td>\n",
       "      <td>120.1</td>\n",
       "      <td>97</td>\n",
       "      <td>3.70</td>\n",
       "      <td>2.465</td>\n",
       "      <td>20.01</td>\n",
       "      <td>1</td>\n",
       "      <td>0</td>\n",
       "      <td>3</td>\n",
       "      <td>1</td>\n",
       "    </tr>\n",
       "    <tr>\n",
       "      <th>25</th>\n",
       "      <td>Fiat X1-9</td>\n",
       "      <td>27.3</td>\n",
       "      <td>4</td>\n",
       "      <td>79.0</td>\n",
       "      <td>66</td>\n",
       "      <td>4.08</td>\n",
       "      <td>1.935</td>\n",
       "      <td>18.90</td>\n",
       "      <td>1</td>\n",
       "      <td>1</td>\n",
       "      <td>4</td>\n",
       "      <td>1</td>\n",
       "    </tr>\n",
       "    <tr>\n",
       "      <th>26</th>\n",
       "      <td>Porsche 914-2</td>\n",
       "      <td>26.0</td>\n",
       "      <td>4</td>\n",
       "      <td>120.3</td>\n",
       "      <td>91</td>\n",
       "      <td>4.43</td>\n",
       "      <td>2.140</td>\n",
       "      <td>16.70</td>\n",
       "      <td>0</td>\n",
       "      <td>1</td>\n",
       "      <td>5</td>\n",
       "      <td>2</td>\n",
       "    </tr>\n",
       "    <tr>\n",
       "      <th>27</th>\n",
       "      <td>Lotus Europa</td>\n",
       "      <td>30.4</td>\n",
       "      <td>4</td>\n",
       "      <td>95.1</td>\n",
       "      <td>113</td>\n",
       "      <td>3.77</td>\n",
       "      <td>1.513</td>\n",
       "      <td>16.90</td>\n",
       "      <td>1</td>\n",
       "      <td>1</td>\n",
       "      <td>5</td>\n",
       "      <td>2</td>\n",
       "    </tr>\n",
       "    <tr>\n",
       "      <th>31</th>\n",
       "      <td>Volvo 142E</td>\n",
       "      <td>21.4</td>\n",
       "      <td>4</td>\n",
       "      <td>121.0</td>\n",
       "      <td>109</td>\n",
       "      <td>4.11</td>\n",
       "      <td>2.780</td>\n",
       "      <td>18.60</td>\n",
       "      <td>1</td>\n",
       "      <td>1</td>\n",
       "      <td>4</td>\n",
       "      <td>2</td>\n",
       "    </tr>\n",
       "  </tbody>\n",
       "</table>\n",
       "</div>"
      ],
      "text/plain": [
       "        Unnamed: 0   mpg  cyl   disp   hp  drat     wt   qsec  vs  am  gear  \\\n",
       "2       Datsun 710  22.8    4  108.0   93  3.85  2.320  18.61   1   1     4   \n",
       "7        Merc 240D  24.4    4  146.7   62  3.69  3.190  20.00   1   0     4   \n",
       "8         Merc 230  22.8    4  140.8   95  3.92  3.150  22.90   1   0     4   \n",
       "17        Fiat 128  32.4    4   78.7   66  4.08  2.200  19.47   1   1     4   \n",
       "18     Honda Civic  30.4    4   75.7   52  4.93  1.615  18.52   1   1     4   \n",
       "19  Toyota Corolla  33.9    4   71.1   65  4.22  1.835  19.90   1   1     4   \n",
       "20   Toyota Corona  21.5    4  120.1   97  3.70  2.465  20.01   1   0     3   \n",
       "25       Fiat X1-9  27.3    4   79.0   66  4.08  1.935  18.90   1   1     4   \n",
       "26   Porsche 914-2  26.0    4  120.3   91  4.43  2.140  16.70   0   1     5   \n",
       "27    Lotus Europa  30.4    4   95.1  113  3.77  1.513  16.90   1   1     5   \n",
       "31      Volvo 142E  21.4    4  121.0  109  4.11  2.780  18.60   1   1     4   \n",
       "\n",
       "    carb  \n",
       "2      1  \n",
       "7      2  \n",
       "8      2  \n",
       "17     1  \n",
       "18     2  \n",
       "19     1  \n",
       "20     1  \n",
       "25     1  \n",
       "26     2  \n",
       "27     2  \n",
       "31     2  "
      ]
     },
     "execution_count": 7,
     "metadata": {},
     "output_type": "execute_result"
    }
   ],
   "source": [
    "df[df.cyl == cylinders]\n"
   ]
  },
  {
   "cell_type": "code",
   "execution_count": 11,
   "id": "8826e13a",
   "metadata": {},
   "outputs": [],
   "source": [
    "df_cyl = (df[df.cyl == cylinders]) # create a new dataframe with only the rows where cyl = cylinders"
   ]
  },
  {
   "cell_type": "code",
   "execution_count": 12,
   "id": "8f48bac2",
   "metadata": {},
   "outputs": [],
   "source": [
    "display(df_cyl) # print the shape of the new data frame"
   ]
  },
  {
   "cell_type": "code",
   "execution_count": 13,
   "id": "7e5eebe4",
   "metadata": {},
   "outputs": [
    {
     "name": "stdout",
     "output_type": "stream",
     "text": [
      "The shape of the new data frame is: (11, 12)\n"
     ]
    }
   ],
   "source": [
    "print('The shape of the new data frame is:',(df_cyl.shape)) #(rows, columns)"
   ]
  },
  {
   "cell_type": "markdown",
   "id": "4eb6ab39",
   "metadata": {},
   "source": [
    "# Question #4 - Bar Charts"
   ]
  },
  {
   "cell_type": "code",
   "execution_count": 14,
   "id": "9d723dc2",
   "metadata": {},
   "outputs": [],
   "source": [
    "# load the pandas module as pd\n",
    "titanic = pd.read_csv('titanic.csv') # load titanic.csv\n",
    "#display(titanic)\n",
    "#titanic.columns"
   ]
  },
  {
   "cell_type": "code",
   "execution_count": 15,
   "id": "66dd3812",
   "metadata": {},
   "outputs": [
    {
     "data": {
      "text/html": [
       "<div>\n",
       "<style scoped>\n",
       "    .dataframe tbody tr th:only-of-type {\n",
       "        vertical-align: middle;\n",
       "    }\n",
       "\n",
       "    .dataframe tbody tr th {\n",
       "        vertical-align: top;\n",
       "    }\n",
       "\n",
       "    .dataframe thead th {\n",
       "        text-align: right;\n",
       "    }\n",
       "</style>\n",
       "<table border=\"1\" class=\"dataframe\">\n",
       "  <thead>\n",
       "    <tr style=\"text-align: right;\">\n",
       "      <th></th>\n",
       "      <th>survived</th>\n",
       "      <th>pclass</th>\n",
       "      <th>sex</th>\n",
       "      <th>age</th>\n",
       "      <th>sibsp</th>\n",
       "      <th>parch</th>\n",
       "      <th>fare</th>\n",
       "      <th>embarked</th>\n",
       "      <th>class</th>\n",
       "      <th>who</th>\n",
       "      <th>adult_male</th>\n",
       "      <th>deck</th>\n",
       "      <th>embark_town</th>\n",
       "      <th>alive</th>\n",
       "      <th>alone</th>\n",
       "    </tr>\n",
       "  </thead>\n",
       "  <tbody>\n",
       "    <tr>\n",
       "      <th>3</th>\n",
       "      <td>1</td>\n",
       "      <td>1</td>\n",
       "      <td>female</td>\n",
       "      <td>35.0</td>\n",
       "      <td>1</td>\n",
       "      <td>0</td>\n",
       "      <td>53.1000</td>\n",
       "      <td>S</td>\n",
       "      <td>First</td>\n",
       "      <td>woman</td>\n",
       "      <td>False</td>\n",
       "      <td>C</td>\n",
       "      <td>Southampton</td>\n",
       "      <td>yes</td>\n",
       "      <td>False</td>\n",
       "    </tr>\n",
       "    <tr>\n",
       "      <th>6</th>\n",
       "      <td>0</td>\n",
       "      <td>1</td>\n",
       "      <td>male</td>\n",
       "      <td>54.0</td>\n",
       "      <td>0</td>\n",
       "      <td>0</td>\n",
       "      <td>51.8625</td>\n",
       "      <td>S</td>\n",
       "      <td>First</td>\n",
       "      <td>man</td>\n",
       "      <td>True</td>\n",
       "      <td>E</td>\n",
       "      <td>Southampton</td>\n",
       "      <td>no</td>\n",
       "      <td>True</td>\n",
       "    </tr>\n",
       "    <tr>\n",
       "      <th>11</th>\n",
       "      <td>1</td>\n",
       "      <td>1</td>\n",
       "      <td>female</td>\n",
       "      <td>58.0</td>\n",
       "      <td>0</td>\n",
       "      <td>0</td>\n",
       "      <td>26.5500</td>\n",
       "      <td>S</td>\n",
       "      <td>First</td>\n",
       "      <td>woman</td>\n",
       "      <td>False</td>\n",
       "      <td>C</td>\n",
       "      <td>Southampton</td>\n",
       "      <td>yes</td>\n",
       "      <td>True</td>\n",
       "    </tr>\n",
       "    <tr>\n",
       "      <th>23</th>\n",
       "      <td>1</td>\n",
       "      <td>1</td>\n",
       "      <td>male</td>\n",
       "      <td>28.0</td>\n",
       "      <td>0</td>\n",
       "      <td>0</td>\n",
       "      <td>35.5000</td>\n",
       "      <td>S</td>\n",
       "      <td>First</td>\n",
       "      <td>man</td>\n",
       "      <td>True</td>\n",
       "      <td>A</td>\n",
       "      <td>Southampton</td>\n",
       "      <td>yes</td>\n",
       "      <td>True</td>\n",
       "    </tr>\n",
       "    <tr>\n",
       "      <th>27</th>\n",
       "      <td>0</td>\n",
       "      <td>1</td>\n",
       "      <td>male</td>\n",
       "      <td>19.0</td>\n",
       "      <td>3</td>\n",
       "      <td>2</td>\n",
       "      <td>263.0000</td>\n",
       "      <td>S</td>\n",
       "      <td>First</td>\n",
       "      <td>man</td>\n",
       "      <td>True</td>\n",
       "      <td>C</td>\n",
       "      <td>Southampton</td>\n",
       "      <td>no</td>\n",
       "      <td>False</td>\n",
       "    </tr>\n",
       "  </tbody>\n",
       "</table>\n",
       "</div>"
      ],
      "text/plain": [
       "    survived  pclass     sex   age  sibsp  parch      fare embarked  class  \\\n",
       "3          1       1  female  35.0      1      0   53.1000        S  First   \n",
       "6          0       1    male  54.0      0      0   51.8625        S  First   \n",
       "11         1       1  female  58.0      0      0   26.5500        S  First   \n",
       "23         1       1    male  28.0      0      0   35.5000        S  First   \n",
       "27         0       1    male  19.0      3      2  263.0000        S  First   \n",
       "\n",
       "      who  adult_male deck  embark_town alive  alone  \n",
       "3   woman       False    C  Southampton   yes  False  \n",
       "6     man        True    E  Southampton    no   True  \n",
       "11  woman       False    C  Southampton   yes   True  \n",
       "23    man        True    A  Southampton   yes   True  \n",
       "27    man        True    C  Southampton    no  False  "
      ]
     },
     "metadata": {},
     "output_type": "display_data"
    }
   ],
   "source": [
    "# subset the titanic dataset to include first class passengers who embarked in Southampton\n",
    "first_south = titanic[(titanic.embark_town == 'Southampton') & (titanic.pclass == 1)] \n",
    "display(first_south.head())"
   ]
  },
  {
   "cell_type": "code",
   "execution_count": 16,
   "id": "d7df7fb6",
   "metadata": {},
   "outputs": [
    {
     "data": {
      "text/html": [
       "<div>\n",
       "<style scoped>\n",
       "    .dataframe tbody tr th:only-of-type {\n",
       "        vertical-align: middle;\n",
       "    }\n",
       "\n",
       "    .dataframe tbody tr th {\n",
       "        vertical-align: top;\n",
       "    }\n",
       "\n",
       "    .dataframe thead th {\n",
       "        text-align: right;\n",
       "    }\n",
       "</style>\n",
       "<table border=\"1\" class=\"dataframe\">\n",
       "  <thead>\n",
       "    <tr style=\"text-align: right;\">\n",
       "      <th></th>\n",
       "      <th>survived</th>\n",
       "      <th>pclass</th>\n",
       "      <th>sex</th>\n",
       "      <th>age</th>\n",
       "      <th>sibsp</th>\n",
       "      <th>parch</th>\n",
       "      <th>fare</th>\n",
       "      <th>embarked</th>\n",
       "      <th>class</th>\n",
       "      <th>who</th>\n",
       "      <th>adult_male</th>\n",
       "      <th>deck</th>\n",
       "      <th>embark_town</th>\n",
       "      <th>alive</th>\n",
       "      <th>alone</th>\n",
       "    </tr>\n",
       "  </thead>\n",
       "  <tbody>\n",
       "    <tr>\n",
       "      <th>0</th>\n",
       "      <td>0</td>\n",
       "      <td>3</td>\n",
       "      <td>male</td>\n",
       "      <td>22.0</td>\n",
       "      <td>1</td>\n",
       "      <td>0</td>\n",
       "      <td>7.2500</td>\n",
       "      <td>S</td>\n",
       "      <td>Third</td>\n",
       "      <td>man</td>\n",
       "      <td>True</td>\n",
       "      <td>NaN</td>\n",
       "      <td>Southampton</td>\n",
       "      <td>no</td>\n",
       "      <td>False</td>\n",
       "    </tr>\n",
       "    <tr>\n",
       "      <th>2</th>\n",
       "      <td>1</td>\n",
       "      <td>3</td>\n",
       "      <td>female</td>\n",
       "      <td>26.0</td>\n",
       "      <td>0</td>\n",
       "      <td>0</td>\n",
       "      <td>7.9250</td>\n",
       "      <td>S</td>\n",
       "      <td>Third</td>\n",
       "      <td>woman</td>\n",
       "      <td>False</td>\n",
       "      <td>NaN</td>\n",
       "      <td>Southampton</td>\n",
       "      <td>yes</td>\n",
       "      <td>True</td>\n",
       "    </tr>\n",
       "    <tr>\n",
       "      <th>4</th>\n",
       "      <td>0</td>\n",
       "      <td>3</td>\n",
       "      <td>male</td>\n",
       "      <td>35.0</td>\n",
       "      <td>0</td>\n",
       "      <td>0</td>\n",
       "      <td>8.0500</td>\n",
       "      <td>S</td>\n",
       "      <td>Third</td>\n",
       "      <td>man</td>\n",
       "      <td>True</td>\n",
       "      <td>NaN</td>\n",
       "      <td>Southampton</td>\n",
       "      <td>no</td>\n",
       "      <td>True</td>\n",
       "    </tr>\n",
       "    <tr>\n",
       "      <th>5</th>\n",
       "      <td>0</td>\n",
       "      <td>3</td>\n",
       "      <td>male</td>\n",
       "      <td>NaN</td>\n",
       "      <td>0</td>\n",
       "      <td>0</td>\n",
       "      <td>8.4583</td>\n",
       "      <td>Q</td>\n",
       "      <td>Third</td>\n",
       "      <td>man</td>\n",
       "      <td>True</td>\n",
       "      <td>NaN</td>\n",
       "      <td>Queenstown</td>\n",
       "      <td>no</td>\n",
       "      <td>True</td>\n",
       "    </tr>\n",
       "    <tr>\n",
       "      <th>7</th>\n",
       "      <td>0</td>\n",
       "      <td>3</td>\n",
       "      <td>male</td>\n",
       "      <td>2.0</td>\n",
       "      <td>3</td>\n",
       "      <td>1</td>\n",
       "      <td>21.0750</td>\n",
       "      <td>S</td>\n",
       "      <td>Third</td>\n",
       "      <td>child</td>\n",
       "      <td>False</td>\n",
       "      <td>NaN</td>\n",
       "      <td>Southampton</td>\n",
       "      <td>no</td>\n",
       "      <td>False</td>\n",
       "    </tr>\n",
       "  </tbody>\n",
       "</table>\n",
       "</div>"
      ],
      "text/plain": [
       "   survived  pclass     sex   age  sibsp  parch     fare embarked  class  \\\n",
       "0         0       3    male  22.0      1      0   7.2500        S  Third   \n",
       "2         1       3  female  26.0      0      0   7.9250        S  Third   \n",
       "4         0       3    male  35.0      0      0   8.0500        S  Third   \n",
       "5         0       3    male   NaN      0      0   8.4583        Q  Third   \n",
       "7         0       3    male   2.0      3      1  21.0750        S  Third   \n",
       "\n",
       "     who  adult_male deck  embark_town alive  alone  \n",
       "0    man        True  NaN  Southampton    no  False  \n",
       "2  woman       False  NaN  Southampton   yes   True  \n",
       "4    man        True  NaN  Southampton    no   True  \n",
       "5    man        True  NaN   Queenstown    no   True  \n",
       "7  child       False  NaN  Southampton    no  False  "
      ]
     },
     "metadata": {},
     "output_type": "display_data"
    }
   ],
   "source": [
    "# subset the titanic dataset to include either second or third class passengers\n",
    "second_third = titanic[ (titanic.pclass == 2) | (titanic.pclass == 3)]\n",
    "display(second_third.head())"
   ]
  },
  {
   "cell_type": "code",
   "execution_count": 17,
   "id": "ba0fa68e",
   "metadata": {},
   "outputs": [],
   "source": [
    "# passengers in first class who embarked in Southampton grouped by sex"
   ]
  },
  {
   "cell_type": "code",
   "execution_count": 18,
   "id": "3497e492",
   "metadata": {},
   "outputs": [
    {
     "data": {
      "image/png": "[encoded data removed]",
      "text/plain": [
       "<Figure size 640x480 with 1 Axes>"
      ]
     },
     "metadata": {},
     "output_type": "display_data"
    }
   ],
   "source": [
    "# loads the necessary modules\n",
    "import pandas as pd\n",
    "import matplotlib.pyplot as plt\n",
    "import seaborn as sns\n",
    "\n",
    "sns.set_theme()\n",
    "\n",
    "# loads the titanic dataset\n",
    "titanic = pd.read_csv('titanic.csv')\n",
    "first_south = titanic[(titanic.embark_town == 'Southampton') & (titanic.pclass == 1)]\n",
    "\n",
    "# title\n",
    "plt.title('Titanic first class passengers by sex', fontsize=20)\n",
    "\n",
    "# plots a vertical bar chart; sets the style of the bar charts with 'palette'\n",
    "sns.countplot(x = \"pclass\", hue=\"sex\", hue_order=['male', 'female'], palette=\"bright\", data=first_south);\n",
    "\n",
    "# labels\n",
    "plt.xlabel(\"Passenger Class\")\n",
    "plt.ylabel(\"Count\")\n",
    "\n",
    "# ticks label\n",
    "#print(plt.xticks())\n",
    "plt.xticks([0],[\"First\"])\n",
    "\n",
    "# saves the image\n",
    "plt.savefig(\"Question04A.png\")\n",
    "\n",
    "# shows the image\n",
    "plt.show()"
   ]
  },
  {
   "cell_type": "code",
   "execution_count": 19,
   "id": "d7b0bb6d",
   "metadata": {},
   "outputs": [],
   "source": [
    "#passengers in second and third class grouped by survival status"
   ]
  },
  {
   "cell_type": "code",
   "execution_count": 20,
   "id": "93017ecb",
   "metadata": {},
   "outputs": [
    {
     "data": {
      "image/png": "[encoded data removed]",
      "text/plain": [
       "<Figure size 640x480 with 1 Axes>"
      ]
     },
     "metadata": {},
     "output_type": "display_data"
    }
   ],
   "source": [
    "# loads the necessary modules\n",
    "import pandas as pd\n",
    "import matplotlib.pyplot as plt\n",
    "import seaborn as sns\n",
    "\n",
    "sns.set_theme()\n",
    "\n",
    "# loads the titanic dataset\n",
    "titanic = pd.read_csv('titanic.csv')\n",
    "second_third = titanic[ (titanic.pclass == 2) | (titanic.pclass == 3)]\n",
    "\n",
    "# title\n",
    "plt.title('Titanic 2nd and 3rd class passengers by survival status', fontsize=20)\n",
    "\n",
    "# plots a vertical bar chart; sets the style of the bar charts with 'palette'\n",
    "sns.countplot(x = \"pclass\", hue=\"survived\", hue_order=([1,0]), palette='cool', data=second_third);\n",
    "\n",
    "# labels\n",
    "plt.xlabel(\"Passenger Class\")\n",
    "plt.ylabel(\"Count\")\n",
    "\n",
    "# Ticks Label\n",
    "#print(plt.xticks())\n",
    "plt.xticks([0, 1],[\"Second\", \"Third\"])\n",
    "\n",
    "# Legend\n",
    "plt.legend(labels=['Survived', 'Not Survived'])\n",
    "\n",
    "# saves the image\n",
    "plt.savefig(\"Question04B.png\")\n",
    "\n",
    "# shows the image\n",
    "plt.show()"
   ]
  },
  {
   "cell_type": "markdown",
   "id": "76b3129b",
   "metadata": {},
   "source": [
    "# Question #5 - Line Charts"
   ]
  },
  {
   "cell_type": "code",
   "execution_count": 21,
   "id": "1b133108",
   "metadata": {},
   "outputs": [],
   "source": [
    "# load the necessary modules\n",
    "\n",
    "import pandas as pd\n",
    "import matplotlib.pyplot as plt\n",
    "\n",
    "#Load the target dataset\n",
    "tgt = pd.read_csv('target.csv') # load the target.csv file\n",
    "#display(tgt)"
   ]
  },
  {
   "cell_type": "code",
   "execution_count": 22,
   "id": "1fa44161",
   "metadata": {},
   "outputs": [],
   "source": [
    "#tgt.shape #(rows, columns)"
   ]
  },
  {
   "cell_type": "code",
   "execution_count": 23,
   "id": "9745ca2e",
   "metadata": {},
   "outputs": [],
   "source": [
    "#tgt.columns"
   ]
  },
  {
   "cell_type": "code",
   "execution_count": 24,
   "id": "785b10b5",
   "metadata": {},
   "outputs": [],
   "source": [
    "#Subset the last 19 days of the target data frame.\n",
    "tgt_date = tgt.sort_values('Date', ascending=False)# sort DESCENDING order to get last 19 dates\n",
    "tgt_19 = tgt_date [0:19] #get apart last 19 dates\n",
    "tgt_march = tgt_19.sort_values('Date')# subset the last 19 days of the df in ASCENDING order\n",
    "\n",
    "#display(tgt_march)"
   ]
  },
  {
   "cell_type": "code",
   "execution_count": 25,
   "id": "ecc2f0ef",
   "metadata": {},
   "outputs": [],
   "source": [
    "#Subset df columns: Date and Volume\n",
    "tgt_vol = tgt_march[[\"Date\",\"Volume\"]]# subset tgt_march and create a df that contains the columns: Date and Volume\n",
    "#display(tgt_vol)"
   ]
  },
  {
   "cell_type": "code",
   "execution_count": 26,
   "id": "10ff93cd",
   "metadata": {},
   "outputs": [
    {
     "name": "stdout",
     "output_type": "stream",
     "text": [
      "3\n"
     ]
    }
   ],
   "source": [
    "day = int(input()) - 1"
   ]
  },
  {
   "cell_type": "code",
   "execution_count": 27,
   "id": "babcdc69",
   "metadata": {},
   "outputs": [],
   "source": [
    "date = tgt_march.iloc[[day]].iloc[0][0] # gets the date\n",
    "#display(date)"
   ]
  },
  {
   "cell_type": "code",
   "execution_count": 28,
   "id": "780b7e29",
   "metadata": {},
   "outputs": [],
   "source": [
    "# Subset the specific row of tgt_vol for the given day\n",
    "volume_row = tgt_vol.iloc[[day]]\n",
    "#display(volume_row)\n",
    "volume = volume_row.iloc[0][1]  # gets the volume for the given day\n",
    "#display(volume)"
   ]
  },
  {
   "cell_type": "code",
   "execution_count": 29,
   "id": "ba739289",
   "metadata": {},
   "outputs": [
    {
     "name": "stdout",
     "output_type": "stream",
     "text": [
      "The volume of TGT on 2018-03-05 is 7654766.0\n"
     ]
    }
   ],
   "source": [
    "print('The volume of TGT on',date, 'is',volume)"
   ]
  },
  {
   "cell_type": "code",
   "execution_count": 30,
   "id": "9737a173",
   "metadata": {},
   "outputs": [
    {
     "data": {
      "image/png": "[encoded data removed]",
      "text/plain": [
       "<Figure size 640x480 with 1 Axes>"
      ]
     },
     "metadata": {},
     "output_type": "display_data"
    }
   ],
   "source": [
    "import pandas as pd\n",
    "import matplotlib.pyplot as plt\n",
    "\n",
    "#Plot Line Chart\n",
    "plt.plot(tgt_vol['Date'],(tgt_vol['Volume'])/(1E06), color = 'deeppink')\n",
    "\n",
    "#Title\n",
    "plt.title('March 2018 Trading Volume for Target Stock')\n",
    "\n",
    "# Ticks X Label\n",
    "#print(plt.xticks())\n",
    "plt.xticks([3, 7, 11, 15],[\"Mar-06\", \"Mar-12\", \"Mar-16\", \"Mar-22\"])\n",
    "\n",
    "# Limit Y Label\n",
    "bottom,top=plt.ylim()\n",
    "#print(bottom, top)\n",
    "plt.ylim(2.2,21 )\n",
    "\n",
    "#X and Y axis labels\n",
    "plt.xlabel('2018')\n",
    "plt.ylabel('Number of Trades (Millions)')\n",
    "\n",
    "# Legend\n",
    "plt.legend(labels=['Volume'])\n",
    "\n",
    "#Save the image\n",
    "plt.savefig('Question05A.png')\n",
    "\n",
    "#Show the image\n",
    "plt.show()"
   ]
  },
  {
   "cell_type": "code",
   "execution_count": 31,
   "id": "d503bfae",
   "metadata": {},
   "outputs": [],
   "source": [
    "#Subset df columns: Date and Volume\n",
    "tgt_close = tgt_march[[\"Date\",\"Close\"]]# subset tgt_march and create a df that contains the columns: Date and Volume\n",
    "#display(tgt_vol)"
   ]
  },
  {
   "cell_type": "code",
   "execution_count": 32,
   "id": "d48340cd",
   "metadata": {},
   "outputs": [],
   "source": [
    "# Subset the specific row of tgt_close for the given day\n",
    "close_row = tgt_close.iloc[[day]]\n",
    "#display(close_row)\n",
    "close = close_row.iloc[0][1]  # gets the volume for the given day\n",
    "#display(close)"
   ]
  },
  {
   "cell_type": "code",
   "execution_count": 33,
   "id": "16e67e3f",
   "metadata": {},
   "outputs": [
    {
     "name": "stdout",
     "output_type": "stream",
     "text": [
      "The closing stock price of TGT on 2018-03-05 is $ 75.14\n"
     ]
    }
   ],
   "source": [
    "print('The closing stock price of TGT on',date, 'is $',close)"
   ]
  },
  {
   "cell_type": "code",
   "execution_count": 34,
   "id": "fae8f033",
   "metadata": {},
   "outputs": [
    {
     "data": {
      "image/png": "[encoded data removed]",
      "text/plain": [
       "<Figure size 640x480 with 1 Axes>"
      ]
     },
     "metadata": {},
     "output_type": "display_data"
    }
   ],
   "source": [
    "import pandas as pd\n",
    "import matplotlib.pyplot as plt\n",
    "\n",
    "#Plot Line Chart\n",
    "plt.plot(tgt_close['Date'],(tgt_close['Close']), color = 'darkorange')\n",
    "\n",
    "#Title\n",
    "plt.title('March 2018 Market Closing Price for Target Stock')\n",
    "\n",
    "# Ticks X Label\n",
    "#print(plt.xticks())\n",
    "plt.xticks([3, 7, 11, 15],[\"Mar-06\", \"Mar-12\", \"Mar-16\", \"Mar-22\"])\n",
    "\n",
    "# Limit Y Label\n",
    "bottom,top=plt.ylim()\n",
    "#print(bottom, top)\n",
    "plt.ylim(66,76 )\n",
    "\n",
    "#X and Y axis labels\n",
    "plt.xlabel('2018')\n",
    "plt.ylabel('Price (USD)')\n",
    "\n",
    "# Legend\n",
    "plt.legend(labels=['Price'])\n",
    "\n",
    "#Save the image\n",
    "plt.savefig('Question05B.png')\n",
    "\n",
    "#Show the image\n",
    "plt.show()"
   ]
  },
  {
   "cell_type": "markdown",
   "id": "b9d7dcfe",
   "metadata": {},
   "source": [
    "# Question #6 - Strip Plots"
   ]
  },
  {
   "cell_type": "code",
   "execution_count": 35,
   "id": "502a588c",
   "metadata": {},
   "outputs": [],
   "source": [
    "# load the necessary modules\n",
    "\n",
    "import pandas as pd\n",
    "import matplotlib.pyplot as plt\n",
    "\n",
    "#Load the target dataset\n",
    "titanic = pd.read_csv('titanic.csv') # load the target.csv file\n",
    "#display(titanic)"
   ]
  },
  {
   "cell_type": "code",
   "execution_count": 36,
   "id": "5c19b49c",
   "metadata": {},
   "outputs": [
    {
     "data": {
      "text/html": [
       "<div>\n",
       "<style scoped>\n",
       "    .dataframe tbody tr th:only-of-type {\n",
       "        vertical-align: middle;\n",
       "    }\n",
       "\n",
       "    .dataframe tbody tr th {\n",
       "        vertical-align: top;\n",
       "    }\n",
       "\n",
       "    .dataframe thead th {\n",
       "        text-align: right;\n",
       "    }\n",
       "</style>\n",
       "<table border=\"1\" class=\"dataframe\">\n",
       "  <thead>\n",
       "    <tr style=\"text-align: right;\">\n",
       "      <th></th>\n",
       "      <th>survived</th>\n",
       "      <th>pclass</th>\n",
       "      <th>sex</th>\n",
       "      <th>age</th>\n",
       "      <th>sibsp</th>\n",
       "      <th>parch</th>\n",
       "      <th>fare</th>\n",
       "      <th>embarked</th>\n",
       "      <th>class</th>\n",
       "      <th>who</th>\n",
       "      <th>adult_male</th>\n",
       "      <th>deck</th>\n",
       "      <th>embark_town</th>\n",
       "      <th>alive</th>\n",
       "      <th>alone</th>\n",
       "    </tr>\n",
       "  </thead>\n",
       "  <tbody>\n",
       "    <tr>\n",
       "      <th>6</th>\n",
       "      <td>0</td>\n",
       "      <td>1</td>\n",
       "      <td>male</td>\n",
       "      <td>54.0</td>\n",
       "      <td>0</td>\n",
       "      <td>0</td>\n",
       "      <td>51.8625</td>\n",
       "      <td>S</td>\n",
       "      <td>First</td>\n",
       "      <td>man</td>\n",
       "      <td>True</td>\n",
       "      <td>E</td>\n",
       "      <td>Southampton</td>\n",
       "      <td>no</td>\n",
       "      <td>True</td>\n",
       "    </tr>\n",
       "    <tr>\n",
       "      <th>23</th>\n",
       "      <td>1</td>\n",
       "      <td>1</td>\n",
       "      <td>male</td>\n",
       "      <td>28.0</td>\n",
       "      <td>0</td>\n",
       "      <td>0</td>\n",
       "      <td>35.5000</td>\n",
       "      <td>S</td>\n",
       "      <td>First</td>\n",
       "      <td>man</td>\n",
       "      <td>True</td>\n",
       "      <td>A</td>\n",
       "      <td>Southampton</td>\n",
       "      <td>yes</td>\n",
       "      <td>True</td>\n",
       "    </tr>\n",
       "    <tr>\n",
       "      <th>27</th>\n",
       "      <td>0</td>\n",
       "      <td>1</td>\n",
       "      <td>male</td>\n",
       "      <td>19.0</td>\n",
       "      <td>3</td>\n",
       "      <td>2</td>\n",
       "      <td>263.0000</td>\n",
       "      <td>S</td>\n",
       "      <td>First</td>\n",
       "      <td>man</td>\n",
       "      <td>True</td>\n",
       "      <td>C</td>\n",
       "      <td>Southampton</td>\n",
       "      <td>no</td>\n",
       "      <td>False</td>\n",
       "    </tr>\n",
       "    <tr>\n",
       "      <th>30</th>\n",
       "      <td>0</td>\n",
       "      <td>1</td>\n",
       "      <td>male</td>\n",
       "      <td>40.0</td>\n",
       "      <td>0</td>\n",
       "      <td>0</td>\n",
       "      <td>27.7208</td>\n",
       "      <td>C</td>\n",
       "      <td>First</td>\n",
       "      <td>man</td>\n",
       "      <td>True</td>\n",
       "      <td>NaN</td>\n",
       "      <td>Cherbourg</td>\n",
       "      <td>no</td>\n",
       "      <td>True</td>\n",
       "    </tr>\n",
       "    <tr>\n",
       "      <th>34</th>\n",
       "      <td>0</td>\n",
       "      <td>1</td>\n",
       "      <td>male</td>\n",
       "      <td>28.0</td>\n",
       "      <td>1</td>\n",
       "      <td>0</td>\n",
       "      <td>82.1708</td>\n",
       "      <td>C</td>\n",
       "      <td>First</td>\n",
       "      <td>man</td>\n",
       "      <td>True</td>\n",
       "      <td>NaN</td>\n",
       "      <td>Cherbourg</td>\n",
       "      <td>no</td>\n",
       "      <td>False</td>\n",
       "    </tr>\n",
       "  </tbody>\n",
       "</table>\n",
       "</div>"
      ],
      "text/plain": [
       "    survived  pclass   sex   age  sibsp  parch      fare embarked  class  who  \\\n",
       "6          0       1  male  54.0      0      0   51.8625        S  First  man   \n",
       "23         1       1  male  28.0      0      0   35.5000        S  First  man   \n",
       "27         0       1  male  19.0      3      2  263.0000        S  First  man   \n",
       "30         0       1  male  40.0      0      0   27.7208        C  First  man   \n",
       "34         0       1  male  28.0      1      0   82.1708        C  First  man   \n",
       "\n",
       "    adult_male deck  embark_town alive  alone  \n",
       "6         True    E  Southampton    no   True  \n",
       "23        True    A  Southampton   yes   True  \n",
       "27        True    C  Southampton    no  False  \n",
       "30        True  NaN    Cherbourg    no   True  \n",
       "34        True  NaN    Cherbourg    no  False  "
      ]
     },
     "execution_count": 36,
     "metadata": {},
     "output_type": "execute_result"
    }
   ],
   "source": [
    "#Create a new df, df, with male 1st class passengers who are over  18 years old.\n",
    "df = titanic[(titanic.sex == 'male') & (titanic.pclass == 1) & (titanic.age > 18)] \n",
    "df.head()"
   ]
  },
  {
   "cell_type": "markdown",
   "id": "cee29eb9",
   "metadata": {},
   "source": [
    "# create and upload a strip plot"
   ]
  },
  {
   "cell_type": "code",
   "execution_count": 37,
   "id": "830ed61e",
   "metadata": {},
   "outputs": [
    {
     "data": {
      "image/png": "[encoded data removed]",
      "text/plain": [
       "<Figure size 640x480 with 1 Axes>"
      ]
     },
     "metadata": {},
     "output_type": "display_data"
    }
   ],
   "source": [
    "#load the necessary libraries\n",
    "import matplotlib.pyplot as plt\n",
    "import matplotlib.patches as mpatches\n",
    "import seaborn as sns\n",
    "import pandas as pd\n",
    "\n",
    "sns.set(style = 'whitegrid')\n",
    "\n",
    "# Loads the titanic dataset\n",
    "titanic = pd.read_csv('titanic.csv')\n",
    "df = titanic[(titanic.sex == 'male') & (titanic.pclass == 1) & (titanic.age > 18)] \n",
    " \n",
    "# Title\n",
    "plt.title('Titanic Surviving Men over 18 Years Old', fontsize=20)\n",
    "\n",
    "# Plot\n",
    "sns.stripplot(x=\"embark_town\", y=\"age\", hue= 'survived', hue_order=[0, 1], palette=['red', 'blue'], data=df)\n",
    "\n",
    "# Legend\n",
    "blue_patch = mpatches.Patch(color='red', label='No')\n",
    "red_patch = mpatches.Patch(color='blue', label='Yes')\n",
    "plt.legend(handles=[blue_patch, red_patch], title = \"Survival Status\")\n",
    "\n",
    "# Labels\n",
    "plt.xlabel(\"Embark Town\")\n",
    "plt.ylabel(\"Age\")\n",
    "\n",
    "# Saves the image\n",
    "plt.savefig(\"Question06A.png\")\n",
    "\n",
    "# Shows the image\n",
    "plt.show()"
   ]
  },
  {
   "cell_type": "code",
   "execution_count": null,
   "id": "758dc1f8",
   "metadata": {},
   "outputs": [],
   "source": []
  }
 ],
 "metadata": {
  "kernelspec": {
   "display_name": "Python 3 (ipykernel)",
   "language": "python",
   "name": "python3"
  },
  "language_info": {
   "codemirror_mode": {
    "name": "ipython",
    "version": 3
   },
   "file_extension": ".py",
   "mimetype": "text/x-python",
   "name": "python",
   "nbconvert_exporter": "python",
   "pygments_lexer": "ipython3",
   "version": "3.12.2"
  }
 },
 "nbformat": 4,
 "nbformat_minor": 5
}
